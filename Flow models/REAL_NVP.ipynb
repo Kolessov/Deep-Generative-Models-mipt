{
  "nbformat": 4,
  "nbformat_minor": 0,
  "metadata": {
    "colab": {
      "name": "REAL_NVP.ipynb",
      "provenance": []
    },
    "kernelspec": {
      "name": "python3",
      "display_name": "Python 3"
    }
  },
  "cells": [
    {
      "cell_type": "markdown",
      "metadata": {
        "id": "_cSYUzC7HFAg"
      },
      "source": [
        "REAL NVP for estimating of distribution"
      ]
    },
    {
      "cell_type": "code",
      "metadata": {
        "id": "p_3r_Q0iHDfI"
      },
      "source": [
        "import numpy as np\n",
        "import matplotlib.pyplot as plt\n",
        "%matplotlib inline\n",
        "\n",
        "import torch\n",
        "import torch.nn as nn\n",
        "import torch.functional as F\n",
        "from torch import distributions\n",
        "import torch.nn.parameter as Parameter\n",
        "\n",
        "from sklearn import datasets,cluster,mixture\n",
        "from sklearn.preprocessing import StandardScaler"
      ],
      "execution_count": 1,
      "outputs": []
    },
    {
      "cell_type": "code",
      "metadata": {
        "id": "ezaZGbi7IXxi"
      },
      "source": [
        "net_s = lambda: nn.Sequential(nn.Linear(2,256),nn.LeakyReLU(),nn.Linear(256,256),nn.LeakyReLU(),nn.Linear(256,2),nn.Tanh())\n",
        "net_t = lambda: nn.Sequential(nn.Linear(2,256),nn.LeakyReLU(),nn.Linear(256,256),nn.LeakyReLU(),nn.Linear(256,2))\n",
        "prior = distributions.MultivariateNormal(torch.zeros(2),torch.eye(2)) # the distribution, whose samples are obtained easily p(z)\n",
        "masks = torch.from_numpy(np.array([[0, 1], [1, 0]] * 3).astype(np.float32)) # 6 masks : 1 step - [0,1],[1,0],[0,1],[1,0],[0,1],[1,0] "
      ],
      "execution_count": 30,
      "outputs": []
    },
    {
      "cell_type": "code",
      "metadata": {
        "id": "n8npGnu6K2Ag"
      },
      "source": [
        "class RealNVP(nn.Module):\n",
        "  \n",
        "  def __init__(self,net_t,net_s,masks,prior):\n",
        "    super(RealNVP,self).__init__()\n",
        "    self.t = torch.nn.ModuleList([net_t() for _ in range(len(masks))])\n",
        "    self.s = torch.nn.ModuleList([net_s() for _ in range(len(masks))])\n",
        "    self.mask = nn.Parameter(masks,requires_grad=False)\n",
        "    self.prior = prior\n",
        "\n",
        "  def g(self,z): # from easy to hard\n",
        "    x = z\n",
        "    for i in range(len(self.t)): \n",
        "      x_ =  x*self.mask[i]\n",
        "      s = self.s[i](x_)*(1 - self.mask[i]) # two is bettter than one\n",
        "      t = self.t[i](x_)*(1 - self.mask[i]) # two is better than one\n",
        "      x = x_ +   ((x*(1 - self.mask[i]))*torch.exp(s) + t)\n",
        "    return x\n",
        "  \n",
        "  def f(self, x):\n",
        "    log_det_J, z = x.new_zeros(x.shape[0]), x\n",
        "    for i in reversed(range(len(self.t))):\n",
        "      z_ = self.mask[i] * z\n",
        "      s = self.s[i](z_) * (1-self.mask[i]) # two is better than one \n",
        "      t = self.t[i](z_) * (1-self.mask[i]) # two is better than one\n",
        "      z = z_ +  (z*(1 - self.mask[i]) - t) * torch.exp(-s) \n",
        "      log_det_J -= s.sum(dim=1) # \n",
        "    return z, log_det_J\n",
        "\n",
        "  def log_prob_of_MLE(self,x):\n",
        "    z,log_jacobian = self.f(x)\n",
        "    return self.prior.log_prob(z) + log_jacobian\n",
        "  \n",
        "  def sample(self,batchSize):\n",
        "    z = self.prior.sample((batchSize,1)) # torch.tensor([batchSize])\n",
        "    x = self.g(z)\n",
        "    return x"
      ],
      "execution_count": 38,
      "outputs": []
    },
    {
      "cell_type": "code",
      "metadata": {
        "id": "7JUFe2qQXByv",
        "outputId": "83bd3043-c45b-48a5-d823-98cd47c90a3a",
        "colab": {
          "base_uri": "https://localhost:8080/",
          "height": 1000
        }
      },
      "source": [
        "flow = RealNVP(net_t,net_s,masks,prior)\n",
        "flow.parameters"
      ],
      "execution_count": 39,
      "outputs": [
        {
          "output_type": "execute_result",
          "data": {
            "text/plain": [
              "<bound method Module.parameters of RealNVP(\n",
              "  (t): ModuleList(\n",
              "    (0): Sequential(\n",
              "      (0): Linear(in_features=2, out_features=256, bias=True)\n",
              "      (1): LeakyReLU(negative_slope=0.01)\n",
              "      (2): Linear(in_features=256, out_features=256, bias=True)\n",
              "      (3): LeakyReLU(negative_slope=0.01)\n",
              "      (4): Linear(in_features=256, out_features=2, bias=True)\n",
              "    )\n",
              "    (1): Sequential(\n",
              "      (0): Linear(in_features=2, out_features=256, bias=True)\n",
              "      (1): LeakyReLU(negative_slope=0.01)\n",
              "      (2): Linear(in_features=256, out_features=256, bias=True)\n",
              "      (3): LeakyReLU(negative_slope=0.01)\n",
              "      (4): Linear(in_features=256, out_features=2, bias=True)\n",
              "    )\n",
              "    (2): Sequential(\n",
              "      (0): Linear(in_features=2, out_features=256, bias=True)\n",
              "      (1): LeakyReLU(negative_slope=0.01)\n",
              "      (2): Linear(in_features=256, out_features=256, bias=True)\n",
              "      (3): LeakyReLU(negative_slope=0.01)\n",
              "      (4): Linear(in_features=256, out_features=2, bias=True)\n",
              "    )\n",
              "    (3): Sequential(\n",
              "      (0): Linear(in_features=2, out_features=256, bias=True)\n",
              "      (1): LeakyReLU(negative_slope=0.01)\n",
              "      (2): Linear(in_features=256, out_features=256, bias=True)\n",
              "      (3): LeakyReLU(negative_slope=0.01)\n",
              "      (4): Linear(in_features=256, out_features=2, bias=True)\n",
              "    )\n",
              "    (4): Sequential(\n",
              "      (0): Linear(in_features=2, out_features=256, bias=True)\n",
              "      (1): LeakyReLU(negative_slope=0.01)\n",
              "      (2): Linear(in_features=256, out_features=256, bias=True)\n",
              "      (3): LeakyReLU(negative_slope=0.01)\n",
              "      (4): Linear(in_features=256, out_features=2, bias=True)\n",
              "    )\n",
              "    (5): Sequential(\n",
              "      (0): Linear(in_features=2, out_features=256, bias=True)\n",
              "      (1): LeakyReLU(negative_slope=0.01)\n",
              "      (2): Linear(in_features=256, out_features=256, bias=True)\n",
              "      (3): LeakyReLU(negative_slope=0.01)\n",
              "      (4): Linear(in_features=256, out_features=2, bias=True)\n",
              "    )\n",
              "  )\n",
              "  (s): ModuleList(\n",
              "    (0): Sequential(\n",
              "      (0): Linear(in_features=2, out_features=256, bias=True)\n",
              "      (1): LeakyReLU(negative_slope=0.01)\n",
              "      (2): Linear(in_features=256, out_features=256, bias=True)\n",
              "      (3): LeakyReLU(negative_slope=0.01)\n",
              "      (4): Linear(in_features=256, out_features=2, bias=True)\n",
              "      (5): Tanh()\n",
              "    )\n",
              "    (1): Sequential(\n",
              "      (0): Linear(in_features=2, out_features=256, bias=True)\n",
              "      (1): LeakyReLU(negative_slope=0.01)\n",
              "      (2): Linear(in_features=256, out_features=256, bias=True)\n",
              "      (3): LeakyReLU(negative_slope=0.01)\n",
              "      (4): Linear(in_features=256, out_features=2, bias=True)\n",
              "      (5): Tanh()\n",
              "    )\n",
              "    (2): Sequential(\n",
              "      (0): Linear(in_features=2, out_features=256, bias=True)\n",
              "      (1): LeakyReLU(negative_slope=0.01)\n",
              "      (2): Linear(in_features=256, out_features=256, bias=True)\n",
              "      (3): LeakyReLU(negative_slope=0.01)\n",
              "      (4): Linear(in_features=256, out_features=2, bias=True)\n",
              "      (5): Tanh()\n",
              "    )\n",
              "    (3): Sequential(\n",
              "      (0): Linear(in_features=2, out_features=256, bias=True)\n",
              "      (1): LeakyReLU(negative_slope=0.01)\n",
              "      (2): Linear(in_features=256, out_features=256, bias=True)\n",
              "      (3): LeakyReLU(negative_slope=0.01)\n",
              "      (4): Linear(in_features=256, out_features=2, bias=True)\n",
              "      (5): Tanh()\n",
              "    )\n",
              "    (4): Sequential(\n",
              "      (0): Linear(in_features=2, out_features=256, bias=True)\n",
              "      (1): LeakyReLU(negative_slope=0.01)\n",
              "      (2): Linear(in_features=256, out_features=256, bias=True)\n",
              "      (3): LeakyReLU(negative_slope=0.01)\n",
              "      (4): Linear(in_features=256, out_features=2, bias=True)\n",
              "      (5): Tanh()\n",
              "    )\n",
              "    (5): Sequential(\n",
              "      (0): Linear(in_features=2, out_features=256, bias=True)\n",
              "      (1): LeakyReLU(negative_slope=0.01)\n",
              "      (2): Linear(in_features=256, out_features=256, bias=True)\n",
              "      (3): LeakyReLU(negative_slope=0.01)\n",
              "      (4): Linear(in_features=256, out_features=2, bias=True)\n",
              "      (5): Tanh()\n",
              "    )\n",
              "  )\n",
              ")>"
            ]
          },
          "metadata": {
            "tags": []
          },
          "execution_count": 39
        }
      ]
    },
    {
      "cell_type": "code",
      "metadata": {
        "id": "8Pl4N_hYXONZ",
        "outputId": "916085fd-27d6-4d73-b56e-3cf19e6166a3",
        "colab": {
          "base_uri": "https://localhost:8080/",
          "height": 204
        }
      },
      "source": [
        "optimizer = torch.optim.Adam([p for p in flow.parameters() if p.requires_grad==True], lr=1e-4)\n",
        "for t in range(5001): \n",
        "  flow.train()   \n",
        "  noisy_moons = datasets.make_moons(n_samples=100, noise=.05)[0].astype(np.float32)\n",
        "  loss = -flow.log_prob_of_MLE(torch.from_numpy(noisy_moons)).mean()\n",
        "    \n",
        "  optimizer.zero_grad()\n",
        "  loss.backward(retain_graph=True)\n",
        "  optimizer.step()\n",
        "    \n",
        "  if t % 500 == 0:\n",
        "    print('iter %s:' % t, 'loss = %.3f' % loss)"
      ],
      "execution_count": 40,
      "outputs": [
        {
          "output_type": "stream",
          "text": [
            "iter 0: loss = 2.353\n",
            "iter 500: loss = 0.762\n",
            "iter 1000: loss = 0.395\n",
            "iter 1500: loss = 0.410\n",
            "iter 2000: loss = 0.338\n",
            "iter 2500: loss = 0.324\n",
            "iter 3000: loss = 0.388\n",
            "iter 3500: loss = 0.381\n",
            "iter 4000: loss = 0.242\n",
            "iter 4500: loss = 0.402\n",
            "iter 5000: loss = 0.337\n"
          ],
          "name": "stdout"
        }
      ]
    },
    {
      "cell_type": "code",
      "metadata": {
        "id": "ldGX6Fpxa5WP",
        "outputId": "c9d96e8a-e2a1-4141-93cb-7a142c49f82c",
        "colab": {
          "base_uri": "https://localhost:8080/",
          "height": 300
        }
      },
      "source": [
        "noisy_moons = datasets.make_moons(n_samples=1000, noise=.05)[0].astype(np.float32)\n",
        "z = flow.f(torch.from_numpy(noisy_moons))[0].detach().numpy()\n",
        "plt.subplot(221)\n",
        "plt.scatter(z[:, 0], z[:, 1])\n",
        "plt.title(r'$z = f(X)$')\n",
        "\n",
        "z = np.random.multivariate_normal(np.zeros(2), np.eye(2), 1000)\n",
        "plt.subplot(222)\n",
        "plt.scatter(z[:, 0], z[:, 1])\n",
        "plt.title(r'$z \\sim p(z)$')\n",
        "\n",
        "plt.subplot(223)\n",
        "x = datasets.make_moons(n_samples=1000, noise=.05)[0].astype(np.float32)\n",
        "plt.scatter(x[:, 0], x[:, 1], c='r')\n",
        "plt.title(r'$X \\sim p(X)$')\n",
        "\n",
        "plt.subplot(224)\n",
        "x = flow.sample(1000).detach().numpy()\n",
        "plt.scatter(x[:, 0, 0], x[:, 0, 1], c='r')\n",
        "plt.title(r'$X = g(z)$')"
      ],
      "execution_count": 41,
      "outputs": [
        {
          "output_type": "execute_result",
          "data": {
            "text/plain": [
              "Text(0.5, 1.0, '$X = g(z)$')"
            ]
          },
          "metadata": {
            "tags": []
          },
          "execution_count": 41
        },
        {
          "output_type": "display_data",
          "data": {
            "image/png": "[encoded data removed]",
            "text/plain": [
              "<Figure size 432x288 with 4 Axes>"
            ]
          },
          "metadata": {
            "tags": [],
            "needs_background": "light"
          }
        }
      ]
    }
  ]
}