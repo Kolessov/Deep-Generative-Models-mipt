{
  "nbformat": 4,
  "nbformat_minor": 0,
  "metadata": {
    "colab": {
      "name": "AAE for CIFAR10.ipynb",
      "provenance": []
    },
    "kernelspec": {
      "name": "python3",
      "display_name": "Python 3"
    },
    "widgets": {
      "application/vnd.jupyter.widget-state+json": {
        "ed7bf84cf0c940a4a297b66144896cec": {
          "model_module": "@jupyter-widgets/controls",
          "model_name": "HBoxModel",
          "state": {
            "_view_name": "HBoxView",
            "_dom_classes": [],
            "_model_name": "HBoxModel",
            "_view_module": "@jupyter-widgets/controls",
            "_model_module_version": "1.5.0",
            "_view_count": null,
            "_view_module_version": "1.5.0",
            "box_style": "",
            "layout": "IPY_MODEL_fc63b9300a464e3ab30e70b9aa36b172",
            "_model_module": "@jupyter-widgets/controls",
            "children": [
              "IPY_MODEL_4562376c91a84f1497ad7753d8e96210",
              "IPY_MODEL_b2f6e0b7c17142fba5bad9fffd0190c6"
            ]
          }
        },
        "fc63b9300a464e3ab30e70b9aa36b172": {
          "model_module": "@jupyter-widgets/base",
          "model_name": "LayoutModel",
          "state": {
            "_view_name": "LayoutView",
            "grid_template_rows": null,
            "right": null,
            "justify_content": null,
            "_view_module": "@jupyter-widgets/base",
            "overflow": null,
            "_model_module_version": "1.2.0",
            "_view_count": null,
            "flex_flow": null,
            "width": null,
            "min_width": null,
            "border": null,
            "align_items": null,
            "bottom": null,
            "_model_module": "@jupyter-widgets/base",
            "top": null,
            "grid_column": null,
            "overflow_y": null,
            "overflow_x": null,
            "grid_auto_flow": null,
            "grid_area": null,
            "grid_template_columns": null,
            "flex": null,
            "_model_name": "LayoutModel",
            "justify_items": null,
            "grid_row": null,
            "max_height": null,
            "align_content": null,
            "visibility": null,
            "align_self": null,
            "height": null,
            "min_height": null,
            "padding": null,
            "grid_auto_rows": null,
            "grid_gap": null,
            "max_width": null,
            "order": null,
            "_view_module_version": "1.2.0",
            "grid_template_areas": null,
            "object_position": null,
            "object_fit": null,
            "grid_auto_columns": null,
            "margin": null,
            "display": null,
            "left": null
          }
        },
        "4562376c91a84f1497ad7753d8e96210": {
          "model_module": "@jupyter-widgets/controls",
          "model_name": "FloatProgressModel",
          "state": {
            "_view_name": "ProgressView",
            "style": "IPY_MODEL_b209902242114ffbaf4813006e8254d5",
            "_dom_classes": [],
            "description": "",
            "_model_name": "FloatProgressModel",
            "bar_style": "info",
            "max": 1,
            "_view_module": "@jupyter-widgets/controls",
            "_model_module_version": "1.5.0",
            "value": 0,
            "_view_count": null,
            "_view_module_version": "1.5.0",
            "orientation": "horizontal",
            "min": 0,
            "description_tooltip": null,
            "_model_module": "@jupyter-widgets/controls",
            "layout": "IPY_MODEL_4bdfeb2dbd0245bcbced6c1677ab5175"
          }
        },
        "b2f6e0b7c17142fba5bad9fffd0190c6": {
          "model_module": "@jupyter-widgets/controls",
          "model_name": "HTMLModel",
          "state": {
            "_view_name": "HTMLView",
            "style": "IPY_MODEL_0290c8bd076f4f87953d2865bb4a853b",
            "_dom_classes": [],
            "description": "",
            "_model_name": "HTMLModel",
            "placeholder": "​",
            "_view_module": "@jupyter-widgets/controls",
            "_model_module_version": "1.5.0",
            "value": " 0/? [00:00&lt;?, ?it/s]",
            "_view_count": null,
            "_view_module_version": "1.5.0",
            "description_tooltip": null,
            "_model_module": "@jupyter-widgets/controls",
            "layout": "IPY_MODEL_1fb73354dfd34d0b979afbf64bb8fb4b"
          }
        },
        "b209902242114ffbaf4813006e8254d5": {
          "model_module": "@jupyter-widgets/controls",
          "model_name": "ProgressStyleModel",
          "state": {
            "_view_name": "StyleView",
            "_model_name": "ProgressStyleModel",
            "description_width": "initial",
            "_view_module": "@jupyter-widgets/base",
            "_model_module_version": "1.5.0",
            "_view_count": null,
            "_view_module_version": "1.2.0",
            "bar_color": null,
            "_model_module": "@jupyter-widgets/controls"
          }
        },
        "4bdfeb2dbd0245bcbced6c1677ab5175": {
          "model_module": "@jupyter-widgets/base",
          "model_name": "LayoutModel",
          "state": {
            "_view_name": "LayoutView",
            "grid_template_rows": null,
            "right": null,
            "justify_content": null,
            "_view_module": "@jupyter-widgets/base",
            "overflow": null,
            "_model_module_version": "1.2.0",
            "_view_count": null,
            "flex_flow": null,
            "width": null,
            "min_width": null,
            "border": null,
            "align_items": null,
            "bottom": null,
            "_model_module": "@jupyter-widgets/base",
            "top": null,
            "grid_column": null,
            "overflow_y": null,
            "overflow_x": null,
            "grid_auto_flow": null,
            "grid_area": null,
            "grid_template_columns": null,
            "flex": null,
            "_model_name": "LayoutModel",
            "justify_items": null,
            "grid_row": null,
            "max_height": null,
            "align_content": null,
            "visibility": null,
            "align_self": null,
            "height": null,
            "min_height": null,
            "padding": null,
            "grid_auto_rows": null,
            "grid_gap": null,
            "max_width": null,
            "order": null,
            "_view_module_version": "1.2.0",
            "grid_template_areas": null,
            "object_position": null,
            "object_fit": null,
            "grid_auto_columns": null,
            "margin": null,
            "display": null,
            "left": null
          }
        },
        "0290c8bd076f4f87953d2865bb4a853b": {
          "model_module": "@jupyter-widgets/controls",
          "model_name": "DescriptionStyleModel",
          "state": {
            "_view_name": "StyleView",
            "_model_name": "DescriptionStyleModel",
            "description_width": "",
            "_view_module": "@jupyter-widgets/base",
            "_model_module_version": "1.5.0",
            "_view_count": null,
            "_view_module_version": "1.2.0",
            "_model_module": "@jupyter-widgets/controls"
          }
        },
        "1fb73354dfd34d0b979afbf64bb8fb4b": {
          "model_module": "@jupyter-widgets/base",
          "model_name": "LayoutModel",
          "state": {
            "_view_name": "LayoutView",
            "grid_template_rows": null,
            "right": null,
            "justify_content": null,
            "_view_module": "@jupyter-widgets/base",
            "overflow": null,
            "_model_module_version": "1.2.0",
            "_view_count": null,
            "flex_flow": null,
            "width": null,
            "min_width": null,
            "border": null,
            "align_items": null,
            "bottom": null,
            "_model_module": "@jupyter-widgets/base",
            "top": null,
            "grid_column": null,
            "overflow_y": null,
            "overflow_x": null,
            "grid_auto_flow": null,
            "grid_area": null,
            "grid_template_columns": null,
            "flex": null,
            "_model_name": "LayoutModel",
            "justify_items": null,
            "grid_row": null,
            "max_height": null,
            "align_content": null,
            "visibility": null,
            "align_self": null,
            "height": null,
            "min_height": null,
            "padding": null,
            "grid_auto_rows": null,
            "grid_gap": null,
            "max_width": null,
            "order": null,
            "_view_module_version": "1.2.0",
            "grid_template_areas": null,
            "object_position": null,
            "object_fit": null,
            "grid_auto_columns": null,
            "margin": null,
            "display": null,
            "left": null
          }
        },
        "76ecf5a387234784ac0e0b8ed9d3fc7b": {
          "model_module": "@jupyter-widgets/controls",
          "model_name": "HBoxModel",
          "state": {
            "_view_name": "HBoxView",
            "_dom_classes": [],
            "_model_name": "HBoxModel",
            "_view_module": "@jupyter-widgets/controls",
            "_model_module_version": "1.5.0",
            "_view_count": null,
            "_view_module_version": "1.5.0",
            "box_style": "",
            "layout": "IPY_MODEL_869367461e344f8aa054383f4955493f",
            "_model_module": "@jupyter-widgets/controls",
            "children": [
              "IPY_MODEL_eb4eb93a762949c5b9ecedd4b2521af9",
              "IPY_MODEL_6ff33ebf82a744eeaea3452236b6ea81"
            ]
          }
        },
        "869367461e344f8aa054383f4955493f": {
          "model_module": "@jupyter-widgets/base",
          "model_name": "LayoutModel",
          "state": {
            "_view_name": "LayoutView",
            "grid_template_rows": null,
            "right": null,
            "justify_content": null,
            "_view_module": "@jupyter-widgets/base",
            "overflow": null,
            "_model_module_version": "1.2.0",
            "_view_count": null,
            "flex_flow": null,
            "width": null,
            "min_width": null,
            "border": null,
            "align_items": null,
            "bottom": null,
            "_model_module": "@jupyter-widgets/base",
            "top": null,
            "grid_column": null,
            "overflow_y": null,
            "overflow_x": null,
            "grid_auto_flow": null,
            "grid_area": null,
            "grid_template_columns": null,
            "flex": null,
            "_model_name": "LayoutModel",
            "justify_items": null,
            "grid_row": null,
            "max_height": null,
            "align_content": null,
            "visibility": null,
            "align_self": null,
            "height": null,
            "min_height": null,
            "padding": null,
            "grid_auto_rows": null,
            "grid_gap": null,
            "max_width": null,
            "order": null,
            "_view_module_version": "1.2.0",
            "grid_template_areas": null,
            "object_position": null,
            "object_fit": null,
            "grid_auto_columns": null,
            "margin": null,
            "display": null,
            "left": null
          }
        },
        "eb4eb93a762949c5b9ecedd4b2521af9": {
          "model_module": "@jupyter-widgets/controls",
          "model_name": "FloatProgressModel",
          "state": {
            "_view_name": "ProgressView",
            "style": "IPY_MODEL_f491b5b701014ded81388d28e2c445fe",
            "_dom_classes": [],
            "description": "",
            "_model_name": "FloatProgressModel",
            "bar_style": "info",
            "max": 1,
            "_view_module": "@jupyter-widgets/controls",
            "_model_module_version": "1.5.0",
            "value": 1,
            "_view_count": null,
            "_view_module_version": "1.5.0",
            "orientation": "horizontal",
            "min": 0,
            "description_tooltip": null,
            "_model_module": "@jupyter-widgets/controls",
            "layout": "IPY_MODEL_a5790c7e6e9c4cccba56115c605dfda9"
          }
        },
        "6ff33ebf82a744eeaea3452236b6ea81": {
          "model_module": "@jupyter-widgets/controls",
          "model_name": "HTMLModel",
          "state": {
            "_view_name": "HTMLView",
            "style": "IPY_MODEL_e3fa08c9ac6341b894bcf4e24d28c8ce",
            "_dom_classes": [],
            "description": "",
            "_model_name": "HTMLModel",
            "placeholder": "​",
            "_view_module": "@jupyter-widgets/controls",
            "_model_module_version": "1.5.0",
            "value": " 170500096/? [00:29&lt;00:00, 15662905.56it/s]",
            "_view_count": null,
            "_view_module_version": "1.5.0",
            "description_tooltip": null,
            "_model_module": "@jupyter-widgets/controls",
            "layout": "IPY_MODEL_00a3f8faa6ec42f49c64d99f3fc5bdee"
          }
        },
        "f491b5b701014ded81388d28e2c445fe": {
          "model_module": "@jupyter-widgets/controls",
          "model_name": "ProgressStyleModel",
          "state": {
            "_view_name": "StyleView",
            "_model_name": "ProgressStyleModel",
            "description_width": "initial",
            "_view_module": "@jupyter-widgets/base",
            "_model_module_version": "1.5.0",
            "_view_count": null,
            "_view_module_version": "1.2.0",
            "bar_color": null,
            "_model_module": "@jupyter-widgets/controls"
          }
        },
        "a5790c7e6e9c4cccba56115c605dfda9": {
          "model_module": "@jupyter-widgets/base",
          "model_name": "LayoutModel",
          "state": {
            "_view_name": "LayoutView",
            "grid_template_rows": null,
            "right": null,
            "justify_content": null,
            "_view_module": "@jupyter-widgets/base",
            "overflow": null,
            "_model_module_version": "1.2.0",
            "_view_count": null,
            "flex_flow": null,
            "width": null,
            "min_width": null,
            "border": null,
            "align_items": null,
            "bottom": null,
            "_model_module": "@jupyter-widgets/base",
            "top": null,
            "grid_column": null,
            "overflow_y": null,
            "overflow_x": null,
            "grid_auto_flow": null,
            "grid_area": null,
            "grid_template_columns": null,
            "flex": null,
            "_model_name": "LayoutModel",
            "justify_items": null,
            "grid_row": null,
            "max_height": null,
            "align_content": null,
            "visibility": null,
            "align_self": null,
            "height": null,
            "min_height": null,
            "padding": null,
            "grid_auto_rows": null,
            "grid_gap": null,
            "max_width": null,
            "order": null,
            "_view_module_version": "1.2.0",
            "grid_template_areas": null,
            "object_position": null,
            "object_fit": null,
            "grid_auto_columns": null,
            "margin": null,
            "display": null,
            "left": null
          }
        },
        "e3fa08c9ac6341b894bcf4e24d28c8ce": {
          "model_module": "@jupyter-widgets/controls",
          "model_name": "DescriptionStyleModel",
          "state": {
            "_view_name": "StyleView",
            "_model_name": "DescriptionStyleModel",
            "description_width": "",
            "_view_module": "@jupyter-widgets/base",
            "_model_module_version": "1.5.0",
            "_view_count": null,
            "_view_module_version": "1.2.0",
            "_model_module": "@jupyter-widgets/controls"
          }
        },
        "00a3f8faa6ec42f49c64d99f3fc5bdee": {
          "model_module": "@jupyter-widgets/base",
          "model_name": "LayoutModel",
          "state": {
            "_view_name": "LayoutView",
            "grid_template_rows": null,
            "right": null,
            "justify_content": null,
            "_view_module": "@jupyter-widgets/base",
            "overflow": null,
            "_model_module_version": "1.2.0",
            "_view_count": null,
            "flex_flow": null,
            "width": null,
            "min_width": null,
            "border": null,
            "align_items": null,
            "bottom": null,
            "_model_module": "@jupyter-widgets/base",
            "top": null,
            "grid_column": null,
            "overflow_y": null,
            "overflow_x": null,
            "grid_auto_flow": null,
            "grid_area": null,
            "grid_template_columns": null,
            "flex": null,
            "_model_name": "LayoutModel",
            "justify_items": null,
            "grid_row": null,
            "max_height": null,
            "align_content": null,
            "visibility": null,
            "align_self": null,
            "height": null,
            "min_height": null,
            "padding": null,
            "grid_auto_rows": null,
            "grid_gap": null,
            "max_width": null,
            "order": null,
            "_view_module_version": "1.2.0",
            "grid_template_areas": null,
            "object_position": null,
            "object_fit": null,
            "grid_auto_columns": null,
            "margin": null,
            "display": null,
            "left": null
          }
        },
        "61f7ed2dd2d546fd9aa1bef54471bb3a": {
          "model_module": "@jupyter-widgets/controls",
          "model_name": "HBoxModel",
          "state": {
            "_view_name": "HBoxView",
            "_dom_classes": [],
            "_model_name": "HBoxModel",
            "_view_module": "@jupyter-widgets/controls",
            "_model_module_version": "1.5.0",
            "_view_count": null,
            "_view_module_version": "1.5.0",
            "box_style": "",
            "layout": "IPY_MODEL_b64d6b73c0ff475788553f2ec3acc46c",
            "_model_module": "@jupyter-widgets/controls",
            "children": [
              "IPY_MODEL_8643dd37a5b5470b93be0ba03fe1cb04",
              "IPY_MODEL_9e47dabcf30f4436bda363a0119a5582"
            ]
          }
        },
        "b64d6b73c0ff475788553f2ec3acc46c": {
          "model_module": "@jupyter-widgets/base",
          "model_name": "LayoutModel",
          "state": {
            "_view_name": "LayoutView",
            "grid_template_rows": null,
            "right": null,
            "justify_content": null,
            "_view_module": "@jupyter-widgets/base",
            "overflow": null,
            "_model_module_version": "1.2.0",
            "_view_count": null,
            "flex_flow": null,
            "width": null,
            "min_width": null,
            "border": null,
            "align_items": null,
            "bottom": null,
            "_model_module": "@jupyter-widgets/base",
            "top": null,
            "grid_column": null,
            "overflow_y": null,
            "overflow_x": null,
            "grid_auto_flow": null,
            "grid_area": null,
            "grid_template_columns": null,
            "flex": null,
            "_model_name": "LayoutModel",
            "justify_items": null,
            "grid_row": null,
            "max_height": null,
            "align_content": null,
            "visibility": null,
            "align_self": null,
            "height": null,
            "min_height": null,
            "padding": null,
            "grid_auto_rows": null,
            "grid_gap": null,
            "max_width": null,
            "order": null,
            "_view_module_version": "1.2.0",
            "grid_template_areas": null,
            "object_position": null,
            "object_fit": null,
            "grid_auto_columns": null,
            "margin": null,
            "display": null,
            "left": null
          }
        },
        "8643dd37a5b5470b93be0ba03fe1cb04": {
          "model_module": "@jupyter-widgets/controls",
          "model_name": "FloatProgressModel",
          "state": {
            "_view_name": "ProgressView",
            "style": "IPY_MODEL_f7ff3634393348369b0895dc9eb0a372",
            "_dom_classes": [],
            "description": "100%",
            "_model_name": "FloatProgressModel",
            "bar_style": "success",
            "max": 1000,
            "_view_module": "@jupyter-widgets/controls",
            "_model_module_version": "1.5.0",
            "value": 1000,
            "_view_count": null,
            "_view_module_version": "1.5.0",
            "orientation": "horizontal",
            "min": 0,
            "description_tooltip": null,
            "_model_module": "@jupyter-widgets/controls",
            "layout": "IPY_MODEL_b75117fc9d664fc383c29d5fd494e772"
          }
        },
        "9e47dabcf30f4436bda363a0119a5582": {
          "model_module": "@jupyter-widgets/controls",
          "model_name": "HTMLModel",
          "state": {
            "_view_name": "HTMLView",
            "style": "IPY_MODEL_0e81be30a3b14aa6a638ec88b3b18bdc",
            "_dom_classes": [],
            "description": "",
            "_model_name": "HTMLModel",
            "placeholder": "​",
            "_view_module": "@jupyter-widgets/controls",
            "_model_module_version": "1.5.0",
            "value": " 1000/1000 [04:17&lt;00:00,  3.88it/s]",
            "_view_count": null,
            "_view_module_version": "1.5.0",
            "description_tooltip": null,
            "_model_module": "@jupyter-widgets/controls",
            "layout": "IPY_MODEL_6d3e213d030d4b48aaffb4a7b8e3d6d7"
          }
        },
        "f7ff3634393348369b0895dc9eb0a372": {
          "model_module": "@jupyter-widgets/controls",
          "model_name": "ProgressStyleModel",
          "state": {
            "_view_name": "StyleView",
            "_model_name": "ProgressStyleModel",
            "description_width": "initial",
            "_view_module": "@jupyter-widgets/base",
            "_model_module_version": "1.5.0",
            "_view_count": null,
            "_view_module_version": "1.2.0",
            "bar_color": null,
            "_model_module": "@jupyter-widgets/controls"
          }
        },
        "b75117fc9d664fc383c29d5fd494e772": {
          "model_module": "@jupyter-widgets/base",
          "model_name": "LayoutModel",
          "state": {
            "_view_name": "LayoutView",
            "grid_template_rows": null,
            "right": null,
            "justify_content": null,
            "_view_module": "@jupyter-widgets/base",
            "overflow": null,
            "_model_module_version": "1.2.0",
            "_view_count": null,
            "flex_flow": null,
            "width": null,
            "min_width": null,
            "border": null,
            "align_items": null,
            "bottom": null,
            "_model_module": "@jupyter-widgets/base",
            "top": null,
            "grid_column": null,
            "overflow_y": null,
            "overflow_x": null,
            "grid_auto_flow": null,
            "grid_area": null,
            "grid_template_columns": null,
            "flex": null,
            "_model_name": "LayoutModel",
            "justify_items": null,
            "grid_row": null,
            "max_height": null,
            "align_content": null,
            "visibility": null,
            "align_self": null,
            "height": null,
            "min_height": null,
            "padding": null,
            "grid_auto_rows": null,
            "grid_gap": null,
            "max_width": null,
            "order": null,
            "_view_module_version": "1.2.0",
            "grid_template_areas": null,
            "object_position": null,
            "object_fit": null,
            "grid_auto_columns": null,
            "margin": null,
            "display": null,
            "left": null
          }
        },
        "0e81be30a3b14aa6a638ec88b3b18bdc": {
          "model_module": "@jupyter-widgets/controls",
          "model_name": "DescriptionStyleModel",
          "state": {
            "_view_name": "StyleView",
            "_model_name": "DescriptionStyleModel",
            "description_width": "",
            "_view_module": "@jupyter-widgets/base",
            "_model_module_version": "1.5.0",
            "_view_count": null,
            "_view_module_version": "1.2.0",
            "_model_module": "@jupyter-widgets/controls"
          }
        },
        "6d3e213d030d4b48aaffb4a7b8e3d6d7": {
          "model_module": "@jupyter-widgets/base",
          "model_name": "LayoutModel",
          "state": {
            "_view_name": "LayoutView",
            "grid_template_rows": null,
            "right": null,
            "justify_content": null,
            "_view_module": "@jupyter-widgets/base",
            "overflow": null,
            "_model_module_version": "1.2.0",
            "_view_count": null,
            "flex_flow": null,
            "width": null,
            "min_width": null,
            "border": null,
            "align_items": null,
            "bottom": null,
            "_model_module": "@jupyter-widgets/base",
            "top": null,
            "grid_column": null,
            "overflow_y": null,
            "overflow_x": null,
            "grid_auto_flow": null,
            "grid_area": null,
            "grid_template_columns": null,
            "flex": null,
            "_model_name": "LayoutModel",
            "justify_items": null,
            "grid_row": null,
            "max_height": null,
            "align_content": null,
            "visibility": null,
            "align_self": null,
            "height": null,
            "min_height": null,
            "padding": null,
            "grid_auto_rows": null,
            "grid_gap": null,
            "max_width": null,
            "order": null,
            "_view_module_version": "1.2.0",
            "grid_template_areas": null,
            "object_position": null,
            "object_fit": null,
            "grid_auto_columns": null,
            "margin": null,
            "display": null,
            "left": null
          }
        },
        "4173b421566f40a883c8cef773591ee2": {
          "model_module": "@jupyter-widgets/controls",
          "model_name": "HBoxModel",
          "state": {
            "_view_name": "HBoxView",
            "_dom_classes": [],
            "_model_name": "HBoxModel",
            "_view_module": "@jupyter-widgets/controls",
            "_model_module_version": "1.5.0",
            "_view_count": null,
            "_view_module_version": "1.5.0",
            "box_style": "",
            "layout": "IPY_MODEL_e2babafc52d34dc5a10ae0ba5e85f3d4",
            "_model_module": "@jupyter-widgets/controls",
            "children": [
              "IPY_MODEL_a3eb86fab12345b5a02f62ae5444bc84",
              "IPY_MODEL_0de2e7a851d64526b0193f7e6011e8dc"
            ]
          }
        },
        "e2babafc52d34dc5a10ae0ba5e85f3d4": {
          "model_module": "@jupyter-widgets/base",
          "model_name": "LayoutModel",
          "state": {
            "_view_name": "LayoutView",
            "grid_template_rows": null,
            "right": null,
            "justify_content": null,
            "_view_module": "@jupyter-widgets/base",
            "overflow": null,
            "_model_module_version": "1.2.0",
            "_view_count": null,
            "flex_flow": null,
            "width": null,
            "min_width": null,
            "border": null,
            "align_items": null,
            "bottom": null,
            "_model_module": "@jupyter-widgets/base",
            "top": null,
            "grid_column": null,
            "overflow_y": null,
            "overflow_x": null,
            "grid_auto_flow": null,
            "grid_area": null,
            "grid_template_columns": null,
            "flex": null,
            "_model_name": "LayoutModel",
            "justify_items": null,
            "grid_row": null,
            "max_height": null,
            "align_content": null,
            "visibility": null,
            "align_self": null,
            "height": null,
            "min_height": null,
            "padding": null,
            "grid_auto_rows": null,
            "grid_gap": null,
            "max_width": null,
            "order": null,
            "_view_module_version": "1.2.0",
            "grid_template_areas": null,
            "object_position": null,
            "object_fit": null,
            "grid_auto_columns": null,
            "margin": null,
            "display": null,
            "left": null
          }
        },
        "a3eb86fab12345b5a02f62ae5444bc84": {
          "model_module": "@jupyter-widgets/controls",
          "model_name": "FloatProgressModel",
          "state": {
            "_view_name": "ProgressView",
            "style": "IPY_MODEL_08d7f2f366c540aa9c54f2d63603ea97",
            "_dom_classes": [],
            "description": "100%",
            "_model_name": "FloatProgressModel",
            "bar_style": "success",
            "max": 1000,
            "_view_module": "@jupyter-widgets/controls",
            "_model_module_version": "1.5.0",
            "value": 1000,
            "_view_count": null,
            "_view_module_version": "1.5.0",
            "orientation": "horizontal",
            "min": 0,
            "description_tooltip": null,
            "_model_module": "@jupyter-widgets/controls",
            "layout": "IPY_MODEL_b981a64e17eb4f4880853c5d9fc86ab8"
          }
        },
        "0de2e7a851d64526b0193f7e6011e8dc": {
          "model_module": "@jupyter-widgets/controls",
          "model_name": "HTMLModel",
          "state": {
            "_view_name": "HTMLView",
            "style": "IPY_MODEL_58ca3be3daff43748c10b4fdbb48276d",
            "_dom_classes": [],
            "description": "",
            "_model_name": "HTMLModel",
            "placeholder": "​",
            "_view_module": "@jupyter-widgets/controls",
            "_model_module_version": "1.5.0",
            "value": " 1000/1000 [17:20&lt;00:00,  1.04s/it]",
            "_view_count": null,
            "_view_module_version": "1.5.0",
            "description_tooltip": null,
            "_model_module": "@jupyter-widgets/controls",
            "layout": "IPY_MODEL_a2d08b7215b049db9e0b233e75b29915"
          }
        },
        "08d7f2f366c540aa9c54f2d63603ea97": {
          "model_module": "@jupyter-widgets/controls",
          "model_name": "ProgressStyleModel",
          "state": {
            "_view_name": "StyleView",
            "_model_name": "ProgressStyleModel",
            "description_width": "initial",
            "_view_module": "@jupyter-widgets/base",
            "_model_module_version": "1.5.0",
            "_view_count": null,
            "_view_module_version": "1.2.0",
            "bar_color": null,
            "_model_module": "@jupyter-widgets/controls"
          }
        },
        "b981a64e17eb4f4880853c5d9fc86ab8": {
          "model_module": "@jupyter-widgets/base",
          "model_name": "LayoutModel",
          "state": {
            "_view_name": "LayoutView",
            "grid_template_rows": null,
            "right": null,
            "justify_content": null,
            "_view_module": "@jupyter-widgets/base",
            "overflow": null,
            "_model_module_version": "1.2.0",
            "_view_count": null,
            "flex_flow": null,
            "width": null,
            "min_width": null,
            "border": null,
            "align_items": null,
            "bottom": null,
            "_model_module": "@jupyter-widgets/base",
            "top": null,
            "grid_column": null,
            "overflow_y": null,
            "overflow_x": null,
            "grid_auto_flow": null,
            "grid_area": null,
            "grid_template_columns": null,
            "flex": null,
            "_model_name": "LayoutModel",
            "justify_items": null,
            "grid_row": null,
            "max_height": null,
            "align_content": null,
            "visibility": null,
            "align_self": null,
            "height": null,
            "min_height": null,
            "padding": null,
            "grid_auto_rows": null,
            "grid_gap": null,
            "max_width": null,
            "order": null,
            "_view_module_version": "1.2.0",
            "grid_template_areas": null,
            "object_position": null,
            "object_fit": null,
            "grid_auto_columns": null,
            "margin": null,
            "display": null,
            "left": null
          }
        },
        "58ca3be3daff43748c10b4fdbb48276d": {
          "model_module": "@jupyter-widgets/controls",
          "model_name": "DescriptionStyleModel",
          "state": {
            "_view_name": "StyleView",
            "_model_name": "DescriptionStyleModel",
            "description_width": "",
            "_view_module": "@jupyter-widgets/base",
            "_model_module_version": "1.5.0",
            "_view_count": null,
            "_view_module_version": "1.2.0",
            "_model_module": "@jupyter-widgets/controls"
          }
        },
        "a2d08b7215b049db9e0b233e75b29915": {
          "model_module": "@jupyter-widgets/base",
          "model_name": "LayoutModel",
          "state": {
            "_view_name": "LayoutView",
            "grid_template_rows": null,
            "right": null,
            "justify_content": null,
            "_view_module": "@jupyter-widgets/base",
            "overflow": null,
            "_model_module_version": "1.2.0",
            "_view_count": null,
            "flex_flow": null,
            "width": null,
            "min_width": null,
            "border": null,
            "align_items": null,
            "bottom": null,
            "_model_module": "@jupyter-widgets/base",
            "top": null,
            "grid_column": null,
            "overflow_y": null,
            "overflow_x": null,
            "grid_auto_flow": null,
            "grid_area": null,
            "grid_template_columns": null,
            "flex": null,
            "_model_name": "LayoutModel",
            "justify_items": null,
            "grid_row": null,
            "max_height": null,
            "align_content": null,
            "visibility": null,
            "align_self": null,
            "height": null,
            "min_height": null,
            "padding": null,
            "grid_auto_rows": null,
            "grid_gap": null,
            "max_width": null,
            "order": null,
            "_view_module_version": "1.2.0",
            "grid_template_areas": null,
            "object_position": null,
            "object_fit": null,
            "grid_auto_columns": null,
            "margin": null,
            "display": null,
            "left": null
          }
        },
        "f2302e0aa16e48aba828d2ff1a6f56c2": {
          "model_module": "@jupyter-widgets/controls",
          "model_name": "HBoxModel",
          "state": {
            "_view_name": "HBoxView",
            "_dom_classes": [],
            "_model_name": "HBoxModel",
            "_view_module": "@jupyter-widgets/controls",
            "_model_module_version": "1.5.0",
            "_view_count": null,
            "_view_module_version": "1.5.0",
            "box_style": "",
            "layout": "IPY_MODEL_c7a5189951644caa87fcfac52c3fdf2d",
            "_model_module": "@jupyter-widgets/controls",
            "children": [
              "IPY_MODEL_599bbeab16b04f849ea42f551d5f9bd9",
              "IPY_MODEL_d5b27de5c651456b95c722f2c7c59475"
            ]
          }
        },
        "c7a5189951644caa87fcfac52c3fdf2d": {
          "model_module": "@jupyter-widgets/base",
          "model_name": "LayoutModel",
          "state": {
            "_view_name": "LayoutView",
            "grid_template_rows": null,
            "right": null,
            "justify_content": null,
            "_view_module": "@jupyter-widgets/base",
            "overflow": null,
            "_model_module_version": "1.2.0",
            "_view_count": null,
            "flex_flow": null,
            "width": null,
            "min_width": null,
            "border": null,
            "align_items": null,
            "bottom": null,
            "_model_module": "@jupyter-widgets/base",
            "top": null,
            "grid_column": null,
            "overflow_y": null,
            "overflow_x": null,
            "grid_auto_flow": null,
            "grid_area": null,
            "grid_template_columns": null,
            "flex": null,
            "_model_name": "LayoutModel",
            "justify_items": null,
            "grid_row": null,
            "max_height": null,
            "align_content": null,
            "visibility": null,
            "align_self": null,
            "height": null,
            "min_height": null,
            "padding": null,
            "grid_auto_rows": null,
            "grid_gap": null,
            "max_width": null,
            "order": null,
            "_view_module_version": "1.2.0",
            "grid_template_areas": null,
            "object_position": null,
            "object_fit": null,
            "grid_auto_columns": null,
            "margin": null,
            "display": null,
            "left": null
          }
        },
        "599bbeab16b04f849ea42f551d5f9bd9": {
          "model_module": "@jupyter-widgets/controls",
          "model_name": "FloatProgressModel",
          "state": {
            "_view_name": "ProgressView",
            "style": "IPY_MODEL_64f5f85f73a04a73a9167ffdab336783",
            "_dom_classes": [],
            "description": "100%",
            "_model_name": "FloatProgressModel",
            "bar_style": "success",
            "max": 1000,
            "_view_module": "@jupyter-widgets/controls",
            "_model_module_version": "1.5.0",
            "value": 1000,
            "_view_count": null,
            "_view_module_version": "1.5.0",
            "orientation": "horizontal",
            "min": 0,
            "description_tooltip": null,
            "_model_module": "@jupyter-widgets/controls",
            "layout": "IPY_MODEL_19e25870d0cc4b90a1ac2f7bb780d42d"
          }
        },
        "d5b27de5c651456b95c722f2c7c59475": {
          "model_module": "@jupyter-widgets/controls",
          "model_name": "HTMLModel",
          "state": {
            "_view_name": "HTMLView",
            "style": "IPY_MODEL_5b7add9067c140a8a498a0db8a890238",
            "_dom_classes": [],
            "description": "",
            "_model_name": "HTMLModel",
            "placeholder": "​",
            "_view_module": "@jupyter-widgets/controls",
            "_model_module_version": "1.5.0",
            "value": " 1000/1000 [07:53&lt;00:00,  2.11it/s]",
            "_view_count": null,
            "_view_module_version": "1.5.0",
            "description_tooltip": null,
            "_model_module": "@jupyter-widgets/controls",
            "layout": "IPY_MODEL_6064e221b755420dbe1a7b2a601ae40a"
          }
        },
        "64f5f85f73a04a73a9167ffdab336783": {
          "model_module": "@jupyter-widgets/controls",
          "model_name": "ProgressStyleModel",
          "state": {
            "_view_name": "StyleView",
            "_model_name": "ProgressStyleModel",
            "description_width": "initial",
            "_view_module": "@jupyter-widgets/base",
            "_model_module_version": "1.5.0",
            "_view_count": null,
            "_view_module_version": "1.2.0",
            "bar_color": null,
            "_model_module": "@jupyter-widgets/controls"
          }
        },
        "19e25870d0cc4b90a1ac2f7bb780d42d": {
          "model_module": "@jupyter-widgets/base",
          "model_name": "LayoutModel",
          "state": {
            "_view_name": "LayoutView",
            "grid_template_rows": null,
            "right": null,
            "justify_content": null,
            "_view_module": "@jupyter-widgets/base",
            "overflow": null,
            "_model_module_version": "1.2.0",
            "_view_count": null,
            "flex_flow": null,
            "width": null,
            "min_width": null,
            "border": null,
            "align_items": null,
            "bottom": null,
            "_model_module": "@jupyter-widgets/base",
            "top": null,
            "grid_column": null,
            "overflow_y": null,
            "overflow_x": null,
            "grid_auto_flow": null,
            "grid_area": null,
            "grid_template_columns": null,
            "flex": null,
            "_model_name": "LayoutModel",
            "justify_items": null,
            "grid_row": null,
            "max_height": null,
            "align_content": null,
            "visibility": null,
            "align_self": null,
            "height": null,
            "min_height": null,
            "padding": null,
            "grid_auto_rows": null,
            "grid_gap": null,
            "max_width": null,
            "order": null,
            "_view_module_version": "1.2.0",
            "grid_template_areas": null,
            "object_position": null,
            "object_fit": null,
            "grid_auto_columns": null,
            "margin": null,
            "display": null,
            "left": null
          }
        },
        "5b7add9067c140a8a498a0db8a890238": {
          "model_module": "@jupyter-widgets/controls",
          "model_name": "DescriptionStyleModel",
          "state": {
            "_view_name": "StyleView",
            "_model_name": "DescriptionStyleModel",
            "description_width": "",
            "_view_module": "@jupyter-widgets/base",
            "_model_module_version": "1.5.0",
            "_view_count": null,
            "_view_module_version": "1.2.0",
            "_model_module": "@jupyter-widgets/controls"
          }
        },
        "6064e221b755420dbe1a7b2a601ae40a": {
          "model_module": "@jupyter-widgets/base",
          "model_name": "LayoutModel",
          "state": {
            "_view_name": "LayoutView",
            "grid_template_rows": null,
            "right": null,
            "justify_content": null,
            "_view_module": "@jupyter-widgets/base",
            "overflow": null,
            "_model_module_version": "1.2.0",
            "_view_count": null,
            "flex_flow": null,
            "width": null,
            "min_width": null,
            "border": null,
            "align_items": null,
            "bottom": null,
            "_model_module": "@jupyter-widgets/base",
            "top": null,
            "grid_column": null,
            "overflow_y": null,
            "overflow_x": null,
            "grid_auto_flow": null,
            "grid_area": null,
            "grid_template_columns": null,
            "flex": null,
            "_model_name": "LayoutModel",
            "justify_items": null,
            "grid_row": null,
            "max_height": null,
            "align_content": null,
            "visibility": null,
            "align_self": null,
            "height": null,
            "min_height": null,
            "padding": null,
            "grid_auto_rows": null,
            "grid_gap": null,
            "max_width": null,
            "order": null,
            "_view_module_version": "1.2.0",
            "grid_template_areas": null,
            "object_position": null,
            "object_fit": null,
            "grid_auto_columns": null,
            "margin": null,
            "display": null,
            "left": null
          }
        },
        "b86e968176bc4ea094069ab2fb32ad0b": {
          "model_module": "@jupyter-widgets/controls",
          "model_name": "HBoxModel",
          "state": {
            "_view_name": "HBoxView",
            "_dom_classes": [],
            "_model_name": "HBoxModel",
            "_view_module": "@jupyter-widgets/controls",
            "_model_module_version": "1.5.0",
            "_view_count": null,
            "_view_module_version": "1.5.0",
            "box_style": "",
            "layout": "IPY_MODEL_0b470daf8e9843bd989d10fcf2be0079",
            "_model_module": "@jupyter-widgets/controls",
            "children": [
              "IPY_MODEL_77f0f19534ab41feb6057f4b770a3fa2",
              "IPY_MODEL_a117ba13d86b470c8290a9854d8ee7cb"
            ]
          }
        },
        "0b470daf8e9843bd989d10fcf2be0079": {
          "model_module": "@jupyter-widgets/base",
          "model_name": "LayoutModel",
          "state": {
            "_view_name": "LayoutView",
            "grid_template_rows": null,
            "right": null,
            "justify_content": null,
            "_view_module": "@jupyter-widgets/base",
            "overflow": null,
            "_model_module_version": "1.2.0",
            "_view_count": null,
            "flex_flow": null,
            "width": null,
            "min_width": null,
            "border": null,
            "align_items": null,
            "bottom": null,
            "_model_module": "@jupyter-widgets/base",
            "top": null,
            "grid_column": null,
            "overflow_y": null,
            "overflow_x": null,
            "grid_auto_flow": null,
            "grid_area": null,
            "grid_template_columns": null,
            "flex": null,
            "_model_name": "LayoutModel",
            "justify_items": null,
            "grid_row": null,
            "max_height": null,
            "align_content": null,
            "visibility": null,
            "align_self": null,
            "height": null,
            "min_height": null,
            "padding": null,
            "grid_auto_rows": null,
            "grid_gap": null,
            "max_width": null,
            "order": null,
            "_view_module_version": "1.2.0",
            "grid_template_areas": null,
            "object_position": null,
            "object_fit": null,
            "grid_auto_columns": null,
            "margin": null,
            "display": null,
            "left": null
          }
        },
        "77f0f19534ab41feb6057f4b770a3fa2": {
          "model_module": "@jupyter-widgets/controls",
          "model_name": "FloatProgressModel",
          "state": {
            "_view_name": "ProgressView",
            "style": "IPY_MODEL_b711334a41e747a9864a82a3969fd7d1",
            "_dom_classes": [],
            "description": "100%",
            "_model_name": "FloatProgressModel",
            "bar_style": "success",
            "max": 1000,
            "_view_module": "@jupyter-widgets/controls",
            "_model_module_version": "1.5.0",
            "value": 1000,
            "_view_count": null,
            "_view_module_version": "1.5.0",
            "orientation": "horizontal",
            "min": 0,
            "description_tooltip": null,
            "_model_module": "@jupyter-widgets/controls",
            "layout": "IPY_MODEL_8685292ba7f540feb9de85135c1b5fe1"
          }
        },
        "a117ba13d86b470c8290a9854d8ee7cb": {
          "model_module": "@jupyter-widgets/controls",
          "model_name": "HTMLModel",
          "state": {
            "_view_name": "HTMLView",
            "style": "IPY_MODEL_d5e9d21ee0cf4d488aa64d6ebe157926",
            "_dom_classes": [],
            "description": "",
            "_model_name": "HTMLModel",
            "placeholder": "​",
            "_view_module": "@jupyter-widgets/controls",
            "_model_module_version": "1.5.0",
            "value": " 1000/1000 [05:01&lt;00:00,  3.31it/s]",
            "_view_count": null,
            "_view_module_version": "1.5.0",
            "description_tooltip": null,
            "_model_module": "@jupyter-widgets/controls",
            "layout": "IPY_MODEL_25972a011b9545439d87fd49aea40e0e"
          }
        },
        "b711334a41e747a9864a82a3969fd7d1": {
          "model_module": "@jupyter-widgets/controls",
          "model_name": "ProgressStyleModel",
          "state": {
            "_view_name": "StyleView",
            "_model_name": "ProgressStyleModel",
            "description_width": "initial",
            "_view_module": "@jupyter-widgets/base",
            "_model_module_version": "1.5.0",
            "_view_count": null,
            "_view_module_version": "1.2.0",
            "bar_color": null,
            "_model_module": "@jupyter-widgets/controls"
          }
        },
        "8685292ba7f540feb9de85135c1b5fe1": {
          "model_module": "@jupyter-widgets/base",
          "model_name": "LayoutModel",
          "state": {
            "_view_name": "LayoutView",
            "grid_template_rows": null,
            "right": null,
            "justify_content": null,
            "_view_module": "@jupyter-widgets/base",
            "overflow": null,
            "_model_module_version": "1.2.0",
            "_view_count": null,
            "flex_flow": null,
            "width": null,
            "min_width": null,
            "border": null,
            "align_items": null,
            "bottom": null,
            "_model_module": "@jupyter-widgets/base",
            "top": null,
            "grid_column": null,
            "overflow_y": null,
            "overflow_x": null,
            "grid_auto_flow": null,
            "grid_area": null,
            "grid_template_columns": null,
            "flex": null,
            "_model_name": "LayoutModel",
            "justify_items": null,
            "grid_row": null,
            "max_height": null,
            "align_content": null,
            "visibility": null,
            "align_self": null,
            "height": null,
            "min_height": null,
            "padding": null,
            "grid_auto_rows": null,
            "grid_gap": null,
            "max_width": null,
            "order": null,
            "_view_module_version": "1.2.0",
            "grid_template_areas": null,
            "object_position": null,
            "object_fit": null,
            "grid_auto_columns": null,
            "margin": null,
            "display": null,
            "left": null
          }
        },
        "d5e9d21ee0cf4d488aa64d6ebe157926": {
          "model_module": "@jupyter-widgets/controls",
          "model_name": "DescriptionStyleModel",
          "state": {
            "_view_name": "StyleView",
            "_model_name": "DescriptionStyleModel",
            "description_width": "",
            "_view_module": "@jupyter-widgets/base",
            "_model_module_version": "1.5.0",
            "_view_count": null,
            "_view_module_version": "1.2.0",
            "_model_module": "@jupyter-widgets/controls"
          }
        },
        "25972a011b9545439d87fd49aea40e0e": {
          "model_module": "@jupyter-widgets/base",
          "model_name": "LayoutModel",
          "state": {
            "_view_name": "LayoutView",
            "grid_template_rows": null,
            "right": null,
            "justify_content": null,
            "_view_module": "@jupyter-widgets/base",
            "overflow": null,
            "_model_module_version": "1.2.0",
            "_view_count": null,
            "flex_flow": null,
            "width": null,
            "min_width": null,
            "border": null,
            "align_items": null,
            "bottom": null,
            "_model_module": "@jupyter-widgets/base",
            "top": null,
            "grid_column": null,
            "overflow_y": null,
            "overflow_x": null,
            "grid_auto_flow": null,
            "grid_area": null,
            "grid_template_columns": null,
            "flex": null,
            "_model_name": "LayoutModel",
            "justify_items": null,
            "grid_row": null,
            "max_height": null,
            "align_content": null,
            "visibility": null,
            "align_self": null,
            "height": null,
            "min_height": null,
            "padding": null,
            "grid_auto_rows": null,
            "grid_gap": null,
            "max_width": null,
            "order": null,
            "_view_module_version": "1.2.0",
            "grid_template_areas": null,
            "object_position": null,
            "object_fit": null,
            "grid_auto_columns": null,
            "margin": null,
            "display": null,
            "left": null
          }
        },
        "3e6f4aa85fc24930b3929b7be0303b03": {
          "model_module": "@jupyter-widgets/controls",
          "model_name": "HBoxModel",
          "state": {
            "_view_name": "HBoxView",
            "_dom_classes": [],
            "_model_name": "HBoxModel",
            "_view_module": "@jupyter-widgets/controls",
            "_model_module_version": "1.5.0",
            "_view_count": null,
            "_view_module_version": "1.5.0",
            "box_style": "",
            "layout": "IPY_MODEL_b5e90e5caf194b7eb8b08dc40dedf628",
            "_model_module": "@jupyter-widgets/controls",
            "children": [
              "IPY_MODEL_3121d977a27447e68d8d503edbb07bfe",
              "IPY_MODEL_c824b16e943c4b96b5d35b74be0137a3"
            ]
          }
        },
        "b5e90e5caf194b7eb8b08dc40dedf628": {
          "model_module": "@jupyter-widgets/base",
          "model_name": "LayoutModel",
          "state": {
            "_view_name": "LayoutView",
            "grid_template_rows": null,
            "right": null,
            "justify_content": null,
            "_view_module": "@jupyter-widgets/base",
            "overflow": null,
            "_model_module_version": "1.2.0",
            "_view_count": null,
            "flex_flow": null,
            "width": null,
            "min_width": null,
            "border": null,
            "align_items": null,
            "bottom": null,
            "_model_module": "@jupyter-widgets/base",
            "top": null,
            "grid_column": null,
            "overflow_y": null,
            "overflow_x": null,
            "grid_auto_flow": null,
            "grid_area": null,
            "grid_template_columns": null,
            "flex": null,
            "_model_name": "LayoutModel",
            "justify_items": null,
            "grid_row": null,
            "max_height": null,
            "align_content": null,
            "visibility": null,
            "align_self": null,
            "height": null,
            "min_height": null,
            "padding": null,
            "grid_auto_rows": null,
            "grid_gap": null,
            "max_width": null,
            "order": null,
            "_view_module_version": "1.2.0",
            "grid_template_areas": null,
            "object_position": null,
            "object_fit": null,
            "grid_auto_columns": null,
            "margin": null,
            "display": null,
            "left": null
          }
        },
        "3121d977a27447e68d8d503edbb07bfe": {
          "model_module": "@jupyter-widgets/controls",
          "model_name": "FloatProgressModel",
          "state": {
            "_view_name": "ProgressView",
            "style": "IPY_MODEL_08b8b9ff3c364054bebd58dedcea896c",
            "_dom_classes": [],
            "description": "100%",
            "_model_name": "FloatProgressModel",
            "bar_style": "success",
            "max": 1000,
            "_view_module": "@jupyter-widgets/controls",
            "_model_module_version": "1.5.0",
            "value": 1000,
            "_view_count": null,
            "_view_module_version": "1.5.0",
            "orientation": "horizontal",
            "min": 0,
            "description_tooltip": null,
            "_model_module": "@jupyter-widgets/controls",
            "layout": "IPY_MODEL_56f7a6a67bf2456ab0699e46e88db692"
          }
        },
        "c824b16e943c4b96b5d35b74be0137a3": {
          "model_module": "@jupyter-widgets/controls",
          "model_name": "HTMLModel",
          "state": {
            "_view_name": "HTMLView",
            "style": "IPY_MODEL_a34a6d22624b4a2eb39565778645e814",
            "_dom_classes": [],
            "description": "",
            "_model_name": "HTMLModel",
            "placeholder": "​",
            "_view_module": "@jupyter-widgets/controls",
            "_model_module_version": "1.5.0",
            "value": " 1000/1000 [08:44&lt;00:00,  1.91it/s]",
            "_view_count": null,
            "_view_module_version": "1.5.0",
            "description_tooltip": null,
            "_model_module": "@jupyter-widgets/controls",
            "layout": "IPY_MODEL_e1b81ae3934146d6919cf09df85c53cc"
          }
        },
        "08b8b9ff3c364054bebd58dedcea896c": {
          "model_module": "@jupyter-widgets/controls",
          "model_name": "ProgressStyleModel",
          "state": {
            "_view_name": "StyleView",
            "_model_name": "ProgressStyleModel",
            "description_width": "initial",
            "_view_module": "@jupyter-widgets/base",
            "_model_module_version": "1.5.0",
            "_view_count": null,
            "_view_module_version": "1.2.0",
            "bar_color": null,
            "_model_module": "@jupyter-widgets/controls"
          }
        },
        "56f7a6a67bf2456ab0699e46e88db692": {
          "model_module": "@jupyter-widgets/base",
          "model_name": "LayoutModel",
          "state": {
            "_view_name": "LayoutView",
            "grid_template_rows": null,
            "right": null,
            "justify_content": null,
            "_view_module": "@jupyter-widgets/base",
            "overflow": null,
            "_model_module_version": "1.2.0",
            "_view_count": null,
            "flex_flow": null,
            "width": null,
            "min_width": null,
            "border": null,
            "align_items": null,
            "bottom": null,
            "_model_module": "@jupyter-widgets/base",
            "top": null,
            "grid_column": null,
            "overflow_y": null,
            "overflow_x": null,
            "grid_auto_flow": null,
            "grid_area": null,
            "grid_template_columns": null,
            "flex": null,
            "_model_name": "LayoutModel",
            "justify_items": null,
            "grid_row": null,
            "max_height": null,
            "align_content": null,
            "visibility": null,
            "align_self": null,
            "height": null,
            "min_height": null,
            "padding": null,
            "grid_auto_rows": null,
            "grid_gap": null,
            "max_width": null,
            "order": null,
            "_view_module_version": "1.2.0",
            "grid_template_areas": null,
            "object_position": null,
            "object_fit": null,
            "grid_auto_columns": null,
            "margin": null,
            "display": null,
            "left": null
          }
        },
        "a34a6d22624b4a2eb39565778645e814": {
          "model_module": "@jupyter-widgets/controls",
          "model_name": "DescriptionStyleModel",
          "state": {
            "_view_name": "StyleView",
            "_model_name": "DescriptionStyleModel",
            "description_width": "",
            "_view_module": "@jupyter-widgets/base",
            "_model_module_version": "1.5.0",
            "_view_count": null,
            "_view_module_version": "1.2.0",
            "_model_module": "@jupyter-widgets/controls"
          }
        },
        "e1b81ae3934146d6919cf09df85c53cc": {
          "model_module": "@jupyter-widgets/base",
          "model_name": "LayoutModel",
          "state": {
            "_view_name": "LayoutView",
            "grid_template_rows": null,
            "right": null,
            "justify_content": null,
            "_view_module": "@jupyter-widgets/base",
            "overflow": null,
            "_model_module_version": "1.2.0",
            "_view_count": null,
            "flex_flow": null,
            "width": null,
            "min_width": null,
            "border": null,
            "align_items": null,
            "bottom": null,
            "_model_module": "@jupyter-widgets/base",
            "top": null,
            "grid_column": null,
            "overflow_y": null,
            "overflow_x": null,
            "grid_auto_flow": null,
            "grid_area": null,
            "grid_template_columns": null,
            "flex": null,
            "_model_name": "LayoutModel",
            "justify_items": null,
            "grid_row": null,
            "max_height": null,
            "align_content": null,
            "visibility": null,
            "align_self": null,
            "height": null,
            "min_height": null,
            "padding": null,
            "grid_auto_rows": null,
            "grid_gap": null,
            "max_width": null,
            "order": null,
            "_view_module_version": "1.2.0",
            "grid_template_areas": null,
            "object_position": null,
            "object_fit": null,
            "grid_auto_columns": null,
            "margin": null,
            "display": null,
            "left": null
          }
        }
      }
    }
  },
  "cells": [
    {
      "cell_type": "markdown",
      "metadata": {
        "id": "uiXx9ZdYSY05"
      },
      "source": [
        "AAE for CIFAR10"
      ]
    },
    {
      "cell_type": "code",
      "metadata": {
        "id": "bpMwxtfzSTwD"
      },
      "source": [
        "import torch\n",
        "import torch.nn as nn\n",
        "import torch.nn.functional as F\n",
        "import torchvision\n",
        "import torch.utils.data as data\n",
        "import torch.optim as optim\n",
        "from torchvision.utils import make_grid\n",
        "import torchvision.transforms as transforms\n",
        "\n",
        "\n",
        "import numpy as np\n",
        "import matplotlib.pyplot as plt\n",
        "import os\n",
        "import pickle"
      ],
      "execution_count": 1,
      "outputs": []
    },
    {
      "cell_type": "code",
      "metadata": {
        "id": "kawPKUvPUeo-"
      },
      "source": [
        "def load_pickle(path): # .pkl to numpy ndarray#\n",
        "  with open(path,'rb') as f:\n",
        "    data = pickle.load(f)\n",
        "  train_data, test_data = data['train'], data['test']\n",
        "  #print(type(train_data))\n",
        "  return  train_data, test_data"
      ],
      "execution_count": 2,
      "outputs": []
    },
    {
      "cell_type": "code",
      "metadata": {
        "id": "3Xbv_EOyVs03"
      },
      "source": [
        "def show_samples(samples,title,nrow = 10):\n",
        "  samples = (torch.FloatTensor(samples)/255).permute(0,3,2,1) \n",
        "  # permute because in pytorch should be such consequence <batch size, image channel, image height, image width>.\n",
        "  grid_img = make_grid(samples, nrow=nrow)\n",
        "  plt.figure()\n",
        "  plt.title(title)\n",
        "  plt.imshow(grid_img.permute(1,2,0))\n",
        "  plt.axis('off')\n",
        "  plt.show()"
      ],
      "execution_count": 3,
      "outputs": []
    },
    {
      "cell_type": "code",
      "metadata": {
        "id": "REu5hUErVElY"
      },
      "source": [
        "def visualize_data(data,title):\n",
        "  idxs = np.random.choice(len(data),replace=False, size = (100,))\n",
        "  images = data[idxs]\n",
        "  show_samples(images,title)"
      ],
      "execution_count": 4,
      "outputs": []
    },
    {
      "cell_type": "code",
      "metadata": {
        "id": "YRKrlE63Tw7x",
        "colab": {
          "base_uri": "https://localhost:8080/",
          "height": 264
        },
        "outputId": "ddb197f9-b103-4ba3-f3d0-f2e94ae02b4c"
      },
      "source": [
        "path = os.path.join('drive', 'My Drive','cifar10.pkl')\n",
        "train_data, test_data = load_pickle(path)\n",
        "visualize_data(train_data,'CIFAR10 samples')"
      ],
      "execution_count": 7,
      "outputs": [
        {
          "output_type": "display_data",
          "data": {
            "image/png": "[encoded data removed]",
            "text/plain": [
              "<Figure size 432x288 with 1 Axes>"
            ]
          },
          "metadata": {
            "tags": [],
            "needs_background": "light"
          }
        }
      ]
    },
    {
      "cell_type": "markdown",
      "metadata": {
        "id": "HrrUtkestdA4"
      },
      "source": [
        "It is worth noticing that encoder is able to encode data distribution to a latent vector, but not mean and scale of latent distribution. It's like advantage of this approach."
      ]
    },
    {
      "cell_type": "code",
      "metadata": {
        "id": "dvQeq6hKZLnT"
      },
      "source": [
        "class Encoder(nn.Module):\n",
        "  def __init__(self, n_latent):\n",
        "    super(Encoder,self).__init__()\n",
        "    self.net = nn.Sequential(\n",
        "        \n",
        "        nn.Conv2d(in_channels= 3, out_channels= 6, kernel_size= 4, stride = 2, padding = 1, bias= False),\n",
        "        nn.BatchNorm2d(num_features = 6),\n",
        "        nn.LeakyReLU(0.2,inplace=True),\n",
        "\n",
        "        nn.Conv2d(in_channels = 6,out_channels = 12, kernel_size = 4, stride = 2,padding = 1, bias = False),\n",
        "        nn.BatchNorm2d(num_features = 12),\n",
        "        nn.LeakyReLU(0.2,inplace=True),\n",
        "\n",
        "        nn.Conv2d(in_channels= 12, out_channels = 24, kernel_size = 4, stride=2, padding = 1, bias =False),\n",
        "        nn.BatchNorm2d(24),\n",
        "        nn.LeakyReLU(0.2, inplace=True),\n",
        "\n",
        "        nn.Flatten(), # From Conv2D to Linear MLP\n",
        "        nn.Linear(in_features = 24*4*4, out_features= 1024),\n",
        "        nn.BatchNorm1d(num_features = 1024),\n",
        "        nn.LeakyReLU(0.2, inplace=True)\n",
        "    )\n",
        "    self.latent_layer = nn.Linear(1024, n_latent)\n",
        "\n",
        "  # at first, will try to assump that variance distribution from normal\n",
        "  # after, will not use certain distribution and will trust to neural network(encoder)\n",
        "  def forward(self, input):\n",
        "    output = self.net(input)\n",
        "    latent_output = self.latent_layer(output)\n",
        "    # 2* n_latent values in latent_output\n",
        "    #mu_z, log_std_z = latent_output.chunk(2, dim=1)\n",
        "    return latent_output"
      ],
      "execution_count": 8,
      "outputs": []
    },
    {
      "cell_type": "code",
      "metadata": {
        "id": "CSTxtqMhztxe"
      },
      "source": [
        "class Unflatten(nn.Module):\n",
        "  def __init__(self,shape):\n",
        "    super(Unflatten,self).__init__()\n",
        "    self.shape = shape\n",
        "  \n",
        "  def forward(self, input):\n",
        "    answer = input.view(len(input) , self.shape[0],self.shape[1],self.shape[2])\n",
        "    return answer"
      ],
      "execution_count": 9,
      "outputs": []
    },
    {
      "cell_type": "markdown",
      "metadata": {
        "id": "4FrmrGWDtwLW"
      },
      "source": [
        "As for the Decoder, there is the same. It is able to decode latent vector to image. As soon as we calculate reconstruction loss, one can backpropogate gradients through the decoder and the encoder."
      ]
    },
    {
      "cell_type": "code",
      "metadata": {
        "id": "yNCH26BofOTR"
      },
      "source": [
        "class Decoder(nn.Module):\n",
        "  \n",
        "  def __init__(self,n_latent):\n",
        "    super(Decoder,self).__init__()\n",
        "    self.net = nn.Sequential(\n",
        "        \n",
        "        nn.Linear(n_latent,1024),\n",
        "        nn.Linear(1024,24*4*4),\n",
        "        nn.BatchNorm1d(24*4*4),\n",
        "        nn.LeakyReLU(0.2, inplace = True),\n",
        "        Unflatten((24,4,4)),\n",
        "\n",
        "\n",
        "        \n",
        "        nn.ConvTranspose2d(in_channels= 24 ,out_channels= 12 ,kernel_size = 7   ,stride = 1 ,padding = 1 ,bias=False),\n",
        "        nn.BatchNorm2d(12),\n",
        "        nn.LeakyReLU(0.2, inplace = True),\n",
        "\n",
        "        nn.ConvTranspose2d(12,6, kernel_size = 4, stride = 2, padding=1, bias=False),\n",
        "        nn.BatchNorm2d(6),\n",
        "        nn.LeakyReLU(0.2, inplace = True),\n",
        "\n",
        "        nn.ConvTranspose2d(6,3, kernel_size = 4, stride=2,padding=1, bias =False),\n",
        "        nn.BatchNorm2d(3),\n",
        "        nn.LeakyReLU(0.2, inplace = True),\n",
        "\n",
        "        nn.Conv2d(3,3,kernel_size=3, stride = 1, padding = 1 ,bias=False),\n",
        "        nn.Tanh()\n",
        "    )\n",
        "    \n",
        "  def forward(self, input):\n",
        "    return self.net(input)\n"
      ],
      "execution_count": 10,
      "outputs": []
    },
    {
      "cell_type": "code",
      "metadata": {
        "id": "69NYZEz62mTH"
      },
      "source": [
        "class Discriminator(nn.Module):\n",
        "  def __init__(self,n_latent):\n",
        "    super(Discriminator,self).__init__()\n",
        "    self.net = nn.Sequential(\n",
        "        nn.Linear(n_latent,1000),\n",
        "        nn.LeakyReLU(0.2,inplace=True),\n",
        "        nn.Linear(1000,1000),\n",
        "        nn.LeakyReLU(0.2, inplace= True),\n",
        "        nn.Linear(1000,1),\n",
        "        nn.Sigmoid()\n",
        "\n",
        "    )\n",
        "  def forward(self, input):\n",
        "    return self.net(input)"
      ],
      "execution_count": 11,
      "outputs": []
    },
    {
      "cell_type": "markdown",
      "metadata": {
        "id": "uj5AC1ykuGaX"
      },
      "source": [
        "As you may have already guessed we don't create the generator. Encoder constitutes usual encoder while there is reconstruction training, nevertheless encoder is transformed to a generator when adversarial training."
      ]
    },
    {
      "cell_type": "code",
      "metadata": {
        "id": "aHxdtV844p9K"
      },
      "source": [
        "n_latent = 60\n",
        "encoder = Encoder(n_latent)\n",
        "decoder = Decoder(n_latent)\n",
        "discriminator = Discriminator(n_latent)"
      ],
      "execution_count": 12,
      "outputs": []
    },
    {
      "cell_type": "code",
      "metadata": {
        "id": "QvcAmXakldin"
      },
      "source": [
        "BATCH_SIZE = 50\n",
        "minimax_lr = 1e-3 # lr for adversarial loss\n",
        "reconstruction_lr = 1e-3 # lr for reconstruction loss\n",
        "EPOCHS = 5\n",
        "EPS =1e-15"
      ],
      "execution_count": 13,
      "outputs": []
    },
    {
      "cell_type": "code",
      "metadata": {
        "id": "IYfuTLbrmdp8"
      },
      "source": [
        "transform = torchvision.transforms.Compose([transforms.ToTensor()])"
      ],
      "execution_count": 14,
      "outputs": []
    },
    {
      "cell_type": "code",
      "metadata": {
        "id": "j6o5IKCjk1PA",
        "colab": {
          "base_uri": "https://localhost:8080/",
          "height": 169,
          "referenced_widgets": [
            "ed7bf84cf0c940a4a297b66144896cec",
            "fc63b9300a464e3ab30e70b9aa36b172",
            "4562376c91a84f1497ad7753d8e96210",
            "b2f6e0b7c17142fba5bad9fffd0190c6",
            "b209902242114ffbaf4813006e8254d5",
            "4bdfeb2dbd0245bcbced6c1677ab5175",
            "0290c8bd076f4f87953d2865bb4a853b",
            "1fb73354dfd34d0b979afbf64bb8fb4b",
            "76ecf5a387234784ac0e0b8ed9d3fc7b",
            "869367461e344f8aa054383f4955493f",
            "eb4eb93a762949c5b9ecedd4b2521af9",
            "6ff33ebf82a744eeaea3452236b6ea81",
            "f491b5b701014ded81388d28e2c445fe",
            "a5790c7e6e9c4cccba56115c605dfda9",
            "e3fa08c9ac6341b894bcf4e24d28c8ce",
            "00a3f8faa6ec42f49c64d99f3fc5bdee"
          ]
        },
        "outputId": "675963ce-373c-42fc-e0ab-9ca685177c46"
      },
      "source": [
        "data_train = torchvision.datasets.CIFAR10(root='./data',train=True,transform=transform,download =True)\n",
        "data_test = torchvision.datasets.CIFAR10(root='./data',train=False,transform=transform,download=True)\n",
        "train_loader = torch.utils.data.DataLoader(dataset=data_train,batch_size = BATCH_SIZE, shuffle=True)\n",
        "test_loader = torch.utils.data.DataLoader(dataset=data_test, batch_size=BATCH_SIZE,shuffle=False)"
      ],
      "execution_count": 15,
      "outputs": [
        {
          "output_type": "stream",
          "text": [
            "Downloading https://www.cs.toronto.edu/~kriz/cifar-10-python.tar.gz to ./data/cifar-10-python.tar.gz\n"
          ],
          "name": "stdout"
        },
        {
          "output_type": "display_data",
          "data": {
            "application/vnd.jupyter.widget-view+json": {
              "model_id": "ed7bf84cf0c940a4a297b66144896cec",
              "version_minor": 0,
              "version_major": 2
            },
            "text/plain": [
              "HBox(children=(FloatProgress(value=1.0, bar_style='info', max=1.0), HTML(value='')))"
            ]
          },
          "metadata": {
            "tags": []
          }
        },
        {
          "output_type": "stream",
          "text": [
            "Failed download. Trying https -> http instead. Downloading http://www.cs.toronto.edu/~kriz/cifar-10-python.tar.gz to ./data/cifar-10-python.tar.gz\n"
          ],
          "name": "stdout"
        },
        {
          "output_type": "display_data",
          "data": {
            "application/vnd.jupyter.widget-view+json": {
              "model_id": "76ecf5a387234784ac0e0b8ed9d3fc7b",
              "version_minor": 0,
              "version_major": 2
            },
            "text/plain": [
              "HBox(children=(FloatProgress(value=1.0, bar_style='info', max=1.0), HTML(value='')))"
            ]
          },
          "metadata": {
            "tags": []
          }
        },
        {
          "output_type": "stream",
          "text": [
            "Extracting ./data/cifar-10-python.tar.gz to ./data\n",
            "Files already downloaded and verified\n"
          ],
          "name": "stdout"
        }
      ]
    },
    {
      "cell_type": "markdown",
      "metadata": {
        "id": "F8psB62wus30"
      },
      "source": [
        "There are generator optimizer and encoder optimizer deal with the encoder as was mentioned above."
      ]
    },
    {
      "cell_type": "code",
      "metadata": {
        "id": "qte26JKd9_Us"
      },
      "source": [
        "encoder_optim = optim.Adam(encoder.parameters(),lr= reconstruction_lr)\n",
        "generator_optim = optim.Adam(encoder.parameters(),lr= minimax_lr)\n",
        "decoder_optim = optim.Adam(decoder.parameters(),lr= reconstruction_lr)\n",
        "discriminator_optim = optim.Adam(discriminator.parameters(),lr = minimax_lr)"
      ],
      "execution_count": 16,
      "outputs": []
    },
    {
      "cell_type": "markdown",
      "metadata": {
        "id": "t-C1k3HHvpeY"
      },
      "source": [
        "The following image constitutes the process of training.\n"
      ]
    },
    {
      "cell_type": "markdown",
      "metadata": {
        "id": "iQAVQcPLwMlK"
      },
      "source": [
        "\n",
        "\n",
        "1.   encoding data to latent vector, but not parameters\n",
        "2.   encoding latent vector to data distribution\n",
        "3.   reconstruction error backpropogation\n",
        "4.   sending sample from prior and latent vector to Discriminator\n",
        "5.   Train Discriminator and its backprop\n",
        "6.   Train Generator and its backprop by fixed Discriminator\n",
        "\n",
        "\n"
      ]
    },
    {
      "cell_type": "markdown",
      "metadata": {
        "id": "enm9nknXvRIS"
      },
      "source": [
        "![shai.png](data:image/png;base64,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)"
      ]
    },
    {
      "cell_type": "code",
      "metadata": {
        "id": "ddAJUBOrDt6e"
      },
      "source": [
        "def train_model(num_epochs, train_loader, encoder, decoder, discriminator ):\n",
        "\n",
        "  reconstruction_loss = []\n",
        "  generator_loss = []\n",
        "  discriminator_loss = []\n",
        "\n",
        "  encoder_optim = optim.Adam(encoder.parameters(),lr= reconstruction_lr)\n",
        "  generator_optim = optim.Adam(encoder.parameters(),lr= minimax_lr)\n",
        "  decoder_optim = optim.Adam(decoder.parameters(),lr= reconstruction_lr)\n",
        "  discriminator_optim = optim.Adam(discriminator.parameters(),lr = minimax_lr)\n",
        "\n",
        "  for epoch in range(num_epochs):\n",
        "    \n",
        "    encoder.train()\n",
        "    decoder.train()\n",
        "    discriminator.train()\n",
        "\n",
        "    for data,_ in tqdm_notebook(train_loader):\n",
        "      \n",
        "      encoder_optim.zero_grad()\n",
        "      decoder_optim.zero_grad()\n",
        "      discriminator_optim.zero_grad()\n",
        "      generator_optim.zero_grad()\n",
        "\n",
        "      ##### reconstruction loss #####\n",
        "      latent_sample = encoder(data)\n",
        "      # latent_sample.shape == torch.Size[Batch_size, n_latent = 60]\n",
        "      x_sample = decoder(latent_sample)\n",
        "      # x_sample.shape == torch.Size[Batch_size, 3, 32,32]\n",
        "      # data.shape == torch.Size([Batch_size, 3, 32, 32])\n",
        "      \n",
        "\n",
        "      recon_loss = F.mse_loss(x_sample,data,reduction='none')\n",
        "      # recon_loss.shape == torch.Size([Batch_size,3,32,32])\n",
        "      recon_loss = recon_loss.view(BATCH_SIZE,-1).sum(1).mean()\n",
        "      reconstruction_loss.append(recon_loss.item())\n",
        "      \n",
        "      recon_loss.backward()\n",
        "      encoder_optim.step()\n",
        "      decoder_optim.step()\n",
        "\n",
        "\n",
        "      #### discriminator loss   #####\n",
        "\n",
        "      encoder.eval()\n",
        "      real_latent = torch.randn(BATCH_SIZE,n_latent)\n",
        "      # real_latent.shape == torch.Size([BATCH_SIZE,n_latent])\n",
        "      real_discriminator = discriminator(real_latent)\n",
        "      # real_discriminator.shape == torch.Size([Batch_Size,1])\n",
        "\n",
        "      fake_latent = encoder(data)\n",
        "      fake_discriminator = discriminator(fake_latent)\n",
        "      #fake_discriminator.shape == torch.Size([Batch_size,1])\n",
        "      \n",
        "      discr_loss = -torch.mean(torch.log(real_discriminator + EPS) + torch.log( 1 - fake_discriminator + EPS))\n",
        "      discriminator_loss.append(discr_loss)\n",
        "      discr_loss.backward()\n",
        "      discriminator_optim.step()\n",
        "      \n",
        "\n",
        "      ####   generator   loss   ####\n",
        "      encoder.train()\n",
        "\n",
        "      fake_latent = encoder(data)\n",
        "      fake_discriminator = discriminator(fake_latent)\n",
        "\n",
        "      gen_loss = -torch.mean(torch.log(fake_discriminator + EPS))\n",
        "      generator_loss.append(gen_loss)\n",
        "      gen_loss.backward()\n",
        "      generator_optim.step()\n",
        "      \n",
        "\n",
        "\n",
        "  return reconstruction_loss, discriminator_loss, generator_loss"
      ],
      "execution_count": 17,
      "outputs": []
    },
    {
      "cell_type": "code",
      "metadata": {
        "id": "KQF6itAHk4PY"
      },
      "source": [
        "import tqdm\n",
        "from tqdm import tqdm_notebook"
      ],
      "execution_count": 19,
      "outputs": []
    },
    {
      "cell_type": "code",
      "metadata": {
        "id": "kcNqcSNiJs5N",
        "colab": {
          "base_uri": "https://localhost:8080/",
          "height": 316,
          "referenced_widgets": [
            "61f7ed2dd2d546fd9aa1bef54471bb3a",
            "b64d6b73c0ff475788553f2ec3acc46c",
            "8643dd37a5b5470b93be0ba03fe1cb04",
            "9e47dabcf30f4436bda363a0119a5582",
            "f7ff3634393348369b0895dc9eb0a372",
            "b75117fc9d664fc383c29d5fd494e772",
            "0e81be30a3b14aa6a638ec88b3b18bdc",
            "6d3e213d030d4b48aaffb4a7b8e3d6d7",
            "4173b421566f40a883c8cef773591ee2",
            "e2babafc52d34dc5a10ae0ba5e85f3d4",
            "a3eb86fab12345b5a02f62ae5444bc84",
            "0de2e7a851d64526b0193f7e6011e8dc",
            "08d7f2f366c540aa9c54f2d63603ea97",
            "b981a64e17eb4f4880853c5d9fc86ab8",
            "58ca3be3daff43748c10b4fdbb48276d",
            "a2d08b7215b049db9e0b233e75b29915",
            "f2302e0aa16e48aba828d2ff1a6f56c2",
            "c7a5189951644caa87fcfac52c3fdf2d",
            "599bbeab16b04f849ea42f551d5f9bd9",
            "d5b27de5c651456b95c722f2c7c59475",
            "64f5f85f73a04a73a9167ffdab336783",
            "19e25870d0cc4b90a1ac2f7bb780d42d",
            "5b7add9067c140a8a498a0db8a890238",
            "6064e221b755420dbe1a7b2a601ae40a",
            "b86e968176bc4ea094069ab2fb32ad0b",
            "0b470daf8e9843bd989d10fcf2be0079",
            "77f0f19534ab41feb6057f4b770a3fa2",
            "a117ba13d86b470c8290a9854d8ee7cb",
            "b711334a41e747a9864a82a3969fd7d1",
            "8685292ba7f540feb9de85135c1b5fe1",
            "d5e9d21ee0cf4d488aa64d6ebe157926",
            "25972a011b9545439d87fd49aea40e0e",
            "3e6f4aa85fc24930b3929b7be0303b03",
            "b5e90e5caf194b7eb8b08dc40dedf628",
            "3121d977a27447e68d8d503edbb07bfe",
            "c824b16e943c4b96b5d35b74be0137a3",
            "08b8b9ff3c364054bebd58dedcea896c",
            "56f7a6a67bf2456ab0699e46e88db692",
            "a34a6d22624b4a2eb39565778645e814",
            "e1b81ae3934146d6919cf09df85c53cc"
          ]
        },
        "outputId": "b3bff088-737c-4732-9992-b61c78efd191"
      },
      "source": [
        "reconstruction_loss, discriminator_loss, generator_loss =   train_model(EPOCHS,train_loader,encoder, decoder, discriminator )"
      ],
      "execution_count": 20,
      "outputs": [
        {
          "output_type": "stream",
          "text": [
            "/usr/local/lib/python3.6/dist-packages/ipykernel_launcher.py:18: TqdmDeprecationWarning: This function will be removed in tqdm==5.0.0\n",
            "Please use `tqdm.notebook.tqdm` instead of `tqdm.tqdm_notebook`\n"
          ],
          "name": "stderr"
        },
        {
          "output_type": "display_data",
          "data": {
            "application/vnd.jupyter.widget-view+json": {
              "model_id": "61f7ed2dd2d546fd9aa1bef54471bb3a",
              "version_minor": 0,
              "version_major": 2
            },
            "text/plain": [
              "HBox(children=(FloatProgress(value=0.0, max=1000.0), HTML(value='')))"
            ]
          },
          "metadata": {
            "tags": []
          }
        },
        {
          "output_type": "stream",
          "text": [
            "\n"
          ],
          "name": "stdout"
        },
        {
          "output_type": "display_data",
          "data": {
            "application/vnd.jupyter.widget-view+json": {
              "model_id": "4173b421566f40a883c8cef773591ee2",
              "version_minor": 0,
              "version_major": 2
            },
            "text/plain": [
              "HBox(children=(FloatProgress(value=0.0, max=1000.0), HTML(value='')))"
            ]
          },
          "metadata": {
            "tags": []
          }
        },
        {
          "output_type": "stream",
          "text": [
            "\n"
          ],
          "name": "stdout"
        },
        {
          "output_type": "display_data",
          "data": {
            "application/vnd.jupyter.widget-view+json": {
              "model_id": "f2302e0aa16e48aba828d2ff1a6f56c2",
              "version_minor": 0,
              "version_major": 2
            },
            "text/plain": [
              "HBox(children=(FloatProgress(value=0.0, max=1000.0), HTML(value='')))"
            ]
          },
          "metadata": {
            "tags": []
          }
        },
        {
          "output_type": "stream",
          "text": [
            "\n"
          ],
          "name": "stdout"
        },
        {
          "output_type": "display_data",
          "data": {
            "application/vnd.jupyter.widget-view+json": {
              "model_id": "b86e968176bc4ea094069ab2fb32ad0b",
              "version_minor": 0,
              "version_major": 2
            },
            "text/plain": [
              "HBox(children=(FloatProgress(value=0.0, max=1000.0), HTML(value='')))"
            ]
          },
          "metadata": {
            "tags": []
          }
        },
        {
          "output_type": "stream",
          "text": [
            "\n"
          ],
          "name": "stdout"
        },
        {
          "output_type": "display_data",
          "data": {
            "application/vnd.jupyter.widget-view+json": {
              "model_id": "3e6f4aa85fc24930b3929b7be0303b03",
              "version_minor": 0,
              "version_major": 2
            },
            "text/plain": [
              "HBox(children=(FloatProgress(value=0.0, max=1000.0), HTML(value='')))"
            ]
          },
          "metadata": {
            "tags": []
          }
        },
        {
          "output_type": "stream",
          "text": [
            "\n"
          ],
          "name": "stdout"
        }
      ]
    },
    {
      "cell_type": "code",
      "metadata": {
        "id": "IfHz3rxnJs0w",
        "colab": {
          "base_uri": "https://localhost:8080/",
          "height": 374
        },
        "outputId": "58106cd9-42f3-43b9-d941-632df4452b98"
      },
      "source": [
        "fig,ax = plt.subplots(3,1,figsize=(10,6))\n",
        "ax[0].plot(reconstruction_loss, color = 'blue', label = 'reconstruction loss')\n",
        "ax[1].plot(discriminator_loss,color='magenta', label = 'loss of discriminator')\n",
        "ax[2].plot(generator_loss,color='darkorange', label = 'loss of generator')\n",
        "ax[1].legend()\n",
        "ax[0].legend()\n",
        "ax[2].legend()\n",
        "plt.show()"
      ],
      "execution_count": 21,
      "outputs": [
        {
          "output_type": "display_data",
          "data": {
            "image/png": "[encoded data removed]",
            "text/plain": [
              "<Figure size 720x432 with 3 Axes>"
            ]
          },
          "metadata": {
            "tags": [],
            "needs_background": "light"
          }
        }
      ]
    },
    {
      "cell_type": "markdown",
      "metadata": {
        "id": "AADTyCRcpBPF"
      },
      "source": [
        "Reconstruction of one object"
      ]
    },
    {
      "cell_type": "code",
      "metadata": {
        "id": "WaQmfBd9sBX3"
      },
      "source": [
        "def show_samples_redefine(samples,title,nrow = 6):\n",
        "  #samples = (torch.FloatTensor(samples)/255).permute(0,3,2,1) \n",
        "  # permute because in pytorch should be such consequence <batch size, image channel, image height, image width>.\n",
        "  grid_img = make_grid(samples, nrow=nrow)\n",
        "  plt.figure()\n",
        "  plt.title(title)\n",
        "  plt.imshow(grid_img.permute(1,2,0))\n",
        "  plt.axis('off')\n",
        "  plt.show()"
      ],
      "execution_count": 72,
      "outputs": []
    },
    {
      "cell_type": "code",
      "metadata": {
        "id": "vjGoxg2yjFFc"
      },
      "source": [
        "image = next(iter(train_loader))[0][:6]"
      ],
      "execution_count": 73,
      "outputs": []
    },
    {
      "cell_type": "code",
      "metadata": {
        "id": "kBaarjwpsFMI",
        "outputId": "6fca8016-a926-433d-a749-da79d2fbd6e4",
        "colab": {
          "base_uri": "https://localhost:8080/",
          "height": 105
        }
      },
      "source": [
        "show_samples_redefine(image,6)"
      ],
      "execution_count": 74,
      "outputs": [
        {
          "output_type": "display_data",
          "data": {
            "image/png": "[encoded data removed]",
            "text/plain": [
              "<Figure size 432x288 with 1 Axes>"
            ]
          },
          "metadata": {
            "tags": [],
            "needs_background": "light"
          }
        }
      ]
    },
    {
      "cell_type": "code",
      "metadata": {
        "id": "Rtt86qjNpu27",
        "outputId": "68bba80a-eab9-4cc8-834a-78c9b646ff9e",
        "colab": {
          "base_uri": "https://localhost:8080/",
          "height": 122
        }
      },
      "source": [
        "latent_sample = encoder(image).detach()\n",
        "x_sample = decoder(latent_sample).detach()\n",
        "show_samples_redefine(x_sample,6)"
      ],
      "execution_count": 86,
      "outputs": [
        {
          "output_type": "stream",
          "text": [
            "Clipping input data to the valid range for imshow with RGB data ([0..1] for floats or [0..255] for integers).\n"
          ],
          "name": "stderr"
        },
        {
          "output_type": "display_data",
          "data": {
            "image/png": "[encoded data removed]",
            "text/plain": [
              "<Figure size 432x288 with 1 Axes>"
            ]
          },
          "metadata": {
            "tags": [],
            "needs_background": "light"
          }
        }
      ]
    }
  ]
}